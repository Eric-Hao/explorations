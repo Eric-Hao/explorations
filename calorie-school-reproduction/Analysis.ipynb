{
 "cells": [
  {
   "cell_type": "markdown",
   "metadata": {},
   "source": [
    "Back in high school, I competed in [Moody's Mega Math Challenge](https://m3challenge.siam.org/), a super interesting math modeling competition (and the thing that got me into Python's data stack). Essentially, you're given a 14 hours to write up a paper (working in teams of 5) to open a super open-ended question. In my senior year, the question was about [school lunches](https://m3challenge.siam.org/sites/default/files/uploads/m3challenge_problem_14_Sat.pdf). One of the most surprising result I found was that schoolgirls ate the same amount of calories (on average), regardless of their grade level.\n",
    "\n",
    "One of my friends recently asked me for that analysis. Unfortunately, I don't think the files survived the hard-drive apocalypse of late 2015, so I settled with reproducing it here. I've always wondered whether that result was real or whether it was just me messing up, so this was a perfect excuse to find out.\n",
    "\n",
    "One interesting thing I noticed was that this analysis was _so much easier_ now. I distinctly remember taking a couple hours figuring out how to massage the data into appropriate formats -- now, it took me like 20 minutes to do everything, from data cleaning and munging to analysis and graphing. It's nice to know that I've improved!"
   ]
  },
  {
   "cell_type": "markdown",
   "metadata": {},
   "source": [
    "The data comes from the [NHANES](http://www.cdc.gov/Nchs/Nhanes/index.htm) survey from the [CDC](http://www.cdc.gov/). To quote their website:\n",
    "\n",
    "> The National Health and Nutrition Examination Survey (NHANES) is a program of studies designed to assess the health and nutritional status of adults and children in the United States\n",
    "\n",
    "Although the latest full data set they have is from 2011-12, I distinctly remember using the 2009-2010 data back then (and being frustrated that more recent data wasn't available), so let's use the 2009-2010 data sets.\n",
    "\n",
    "Let's go ahead and download the Total Nutriet Intake, Day One data set, along with the corresponding demographic data set. The documentation for the two data sets can be found at: \n",
    "- http://wwwn.cdc.gov/Nchs/Nhanes/2009-2010/DEMO_F.htm\n",
    "- http://wwwn.cdc.gov/Nchs/Nhanes/2009-2010/DR1TOT_F.htm"
   ]
  },
  {
   "cell_type": "code",
   "execution_count": 1,
   "metadata": {
    "collapsed": false
   },
   "outputs": [
    {
     "name": "stdout",
     "output_type": "stream",
     "text": [
      "--2016-07-10 19:13:06--  http://wwwn.cdc.gov/Nchs/Nhanes/2009-2010/DR1TOT_F.XPT\n",
      "Resolving wwwn.cdc.gov (wwwn.cdc.gov)... 198.246.117.100\n",
      "Connecting to wwwn.cdc.gov (wwwn.cdc.gov)|198.246.117.100|:80... connected.\n",
      "HTTP request sent, awaiting response... 416 Requested Range Not Satisfiable\n",
      "\n",
      "    The file is already fully retrieved; nothing to do.\n",
      "\n",
      "--2016-07-10 19:13:06--  http://wwwn.cdc.gov/Nchs/Nhanes/2009-2010/DEMO_F.XPT\n",
      "Resolving wwwn.cdc.gov (wwwn.cdc.gov)... 198.246.117.100\n",
      "Connecting to wwwn.cdc.gov (wwwn.cdc.gov)|198.246.117.100|:80... connected.\n",
      "HTTP request sent, awaiting response... 416 Requested Range Not Satisfiable\n",
      "\n",
      "    The file is already fully retrieved; nothing to do.\n",
      "\n"
     ]
    }
   ],
   "source": [
    "!wget --continue http://wwwn.cdc.gov/Nchs/Nhanes/2009-2010/DR1TOT_F.XPT\n",
    "!wget --continue http://wwwn.cdc.gov/Nchs/Nhanes/2009-2010/DEMO_F.XPT"
   ]
  },
  {
   "cell_type": "code",
   "execution_count": 2,
   "metadata": {
    "collapsed": true
   },
   "outputs": [],
   "source": [
    "import pandas as pd\n",
    "from dplython import X, DplyFrame, sift, select, mutate"
   ]
  },
  {
   "cell_type": "code",
   "execution_count": 3,
   "metadata": {
    "collapsed": true
   },
   "outputs": [],
   "source": [
    "food_df = DplyFrame(pd.read_sas(\"DR1TOT_F.XPT\"))\n",
    "demographic_df = DplyFrame(pd.read_sas(\"DEMO_F.XPT\"))"
   ]
  },
  {
   "cell_type": "code",
   "execution_count": 4,
   "metadata": {
    "collapsed": false
   },
   "outputs": [],
   "source": [
    "schoolgirls_df = (demographic_df\n",
    "                  >> sift(X.DMDSCHOL.isin({1, 2, 3}))   # still in school\n",
    "                  >> sift(X.RIAGENDR == 2)              # female\n",
    "                  >> mutate(gradelevel=X.DMDEDUC3.astype(int),\n",
    "                            SEQN=X.SEQN.astype(int),\n",
    "                            age=X.RIDAGEMN.astype(int) / 12.0)   # age is in months\n",
    "                  >> select(X.gradelevel, X.SEQN, X.age)).set_index(\"SEQN\")"
   ]
  },
  {
   "cell_type": "code",
   "execution_count": 5,
   "metadata": {
    "collapsed": false
   },
   "outputs": [],
   "source": [
    "diets_df = (food_df\n",
    "            >> sift(X.SEQN.isin(schoolgirls_df.index))\n",
    "            >> mutate(calories=X.DR1TKCAL,\n",
    "                      weight=X.WTDRD1,\n",
    "                      SEQN=X.SEQN.astype(int))\n",
    "            >> select(X.SEQN, X.weight, X.calories)).set_index(\"SEQN\")"
   ]
  },
  {
   "cell_type": "code",
   "execution_count": 6,
   "metadata": {
    "collapsed": false,
    "scrolled": true
   },
   "outputs": [
    {
     "data": {
      "text/html": [
       "<div>\n",
       "<table border=\"1\" class=\"dataframe\">\n",
       "  <thead>\n",
       "    <tr style=\"text-align: right;\">\n",
       "      <th></th>\n",
       "      <th>gradelevel</th>\n",
       "      <th>age</th>\n",
       "      <th>weight</th>\n",
       "      <th>calories</th>\n",
       "    </tr>\n",
       "    <tr>\n",
       "      <th>SEQN</th>\n",
       "      <th></th>\n",
       "      <th></th>\n",
       "      <th></th>\n",
       "      <th></th>\n",
       "    </tr>\n",
       "  </thead>\n",
       "  <tbody>\n",
       "    <tr>\n",
       "      <th>51649</th>\n",
       "      <td>3</td>\n",
       "      <td>8.916667</td>\n",
       "      <td>8783.597646</td>\n",
       "      <td>2276.0</td>\n",
       "    </tr>\n",
       "    <tr>\n",
       "      <th>51650</th>\n",
       "      <td>4</td>\n",
       "      <td>11.583333</td>\n",
       "      <td>24375.827738</td>\n",
       "      <td>1371.0</td>\n",
       "    </tr>\n",
       "    <tr>\n",
       "      <th>51651</th>\n",
       "      <td>13</td>\n",
       "      <td>19.333333</td>\n",
       "      <td>30516.488003</td>\n",
       "      <td>1411.0</td>\n",
       "    </tr>\n",
       "    <tr>\n",
       "      <th>51663</th>\n",
       "      <td>13</td>\n",
       "      <td>18.833333</td>\n",
       "      <td>7298.041244</td>\n",
       "      <td>1313.0</td>\n",
       "    </tr>\n",
       "    <tr>\n",
       "      <th>51671</th>\n",
       "      <td>2</td>\n",
       "      <td>9.333333</td>\n",
       "      <td>5594.785512</td>\n",
       "      <td>1073.0</td>\n",
       "    </tr>\n",
       "  </tbody>\n",
       "</table>\n",
       "</div>"
      ],
      "text/plain": [
       "       gradelevel        age        weight  calories\n",
       "SEQN                                                \n",
       "51649           3   8.916667   8783.597646    2276.0\n",
       "51650           4  11.583333  24375.827738    1371.0\n",
       "51651          13  19.333333  30516.488003    1411.0\n",
       "51663          13  18.833333   7298.041244    1313.0\n",
       "51671           2   9.333333   5594.785512    1073.0"
      ]
     },
     "execution_count": 6,
     "metadata": {},
     "output_type": "execute_result"
    }
   ],
   "source": [
    "df = pd.concat([schoolgirls_df, diets_df], axis=1).dropna()\n",
    "df.head()"
   ]
  },
  {
   "cell_type": "markdown",
   "metadata": {},
   "source": [
    "We've known obtained some clean data (although we've deliberately thrown out some potentially useful data)"
   ]
  },
  {
   "cell_type": "code",
   "execution_count": 7,
   "metadata": {
    "collapsed": false
   },
   "outputs": [
    {
     "name": "stderr",
     "output_type": "stream",
     "text": [
      "/home/alan/anaconda/envs/nutrition/lib/python3.5/site-packages/IPython/html.py:14: ShimWarning: The `IPython.html` package has been deprecated. You should import from `notebook` instead. `IPython.html.widgets` has moved to `ipywidgets`.\n",
      "  \"`IPython.html.widgets` has moved to `ipywidgets`.\", ShimWarning)\n"
     ]
    }
   ],
   "source": [
    "import seaborn as sns\n",
    "import numpy as np\n",
    "import statsmodels.formula.api as smf\n",
    "%matplotlib inline"
   ]
  },
  {
   "cell_type": "code",
   "execution_count": 8,
   "metadata": {
    "collapsed": false,
    "scrolled": true
   },
   "outputs": [
    {
     "data": {
      "text/plain": [
       "<matplotlib.axes._subplots.AxesSubplot at 0x7f19b4d87b00>"
      ]
     },
     "execution_count": 8,
     "metadata": {},
     "output_type": "execute_result"
    },
    {
     "data": {
      "image/png": "[encoded data removed]",
      "text/plain": [
       "<matplotlib.figure.Figure at 0x7f19b4d87160>"
      ]
     },
     "metadata": {},
     "output_type": "display_data"
    }
   ],
   "source": [
    "sns.regplot(x=\"age\", y=\"calories\", data=df)"
   ]
  },
  {
   "cell_type": "code",
   "execution_count": 9,
   "metadata": {
    "collapsed": false
   },
   "outputs": [
    {
     "data": {
      "text/plain": [
       "<matplotlib.axes._subplots.AxesSubplot at 0x7f19b233f358>"
      ]
     },
     "execution_count": 9,
     "metadata": {},
     "output_type": "execute_result"
    },
    {
     "data": {
      "image/png": "[encoded data removed]",
      "text/plain": [
       "<matplotlib.figure.Figure at 0x7f19b299d438>"
      ]
     },
     "metadata": {},
     "output_type": "display_data"
    }
   ],
   "source": [
    "sns.regplot(x=\"gradelevel\", y=\"calories\", data=df[df.gradelevel < 13],\n",
    "            x_estimator=np.mean, x_ci=95)\n",
    "\n",
    "# blue bars are 95% confidence intervals of the mean at those grade levels\n",
    "# shaded blue is 95% CI for linear regression line"
   ]
  },
  {
   "cell_type": "code",
   "execution_count": 10,
   "metadata": {
    "collapsed": false
   },
   "outputs": [
    {
     "name": "stdout",
     "output_type": "stream",
     "text": [
      "                            OLS Regression Results                            \n",
      "==============================================================================\n",
      "Dep. Variable:               calories   R-squared:                       0.000\n",
      "Model:                            OLS   Adj. R-squared:                 -0.001\n",
      "Method:                 Least Squares   F-statistic:                    0.1637\n",
      "Date:                Sun, 10 Jul 2016   Prob (F-statistic):              0.686\n",
      "Time:                        19:19:34   Log-Likelihood:                -8419.7\n",
      "No. Observations:                1050   AIC:                         1.684e+04\n",
      "Df Residuals:                    1048   BIC:                         1.685e+04\n",
      "Df Model:                           1                                         \n",
      "Covariance Type:            nonrobust                                         \n",
      "==============================================================================\n",
      "                 coef    std err          t      P>|t|      [95.0% Conf. Int.]\n",
      "------------------------------------------------------------------------------\n",
      "Intercept   1821.5405     83.921     21.705      0.000      1656.869  1986.212\n",
      "age            2.4931      6.162      0.405      0.686        -9.598    14.584\n",
      "==============================================================================\n",
      "Omnibus:                      360.780   Durbin-Watson:                   1.905\n",
      "Prob(Omnibus):                  0.000   Jarque-Bera (JB):             2219.649\n",
      "Skew:                           1.440   Prob(JB):                         0.00\n",
      "Kurtosis:                       9.515   Cond. No.                         50.6\n",
      "==============================================================================\n",
      "\n",
      "Warnings:\n",
      "[1] Standard Errors assume that the covariance matrix of the errors is correctly specified.\n",
      "\n"
     ]
    }
   ],
   "source": [
    "model = smf.ols(formula=\"calories ~ age + 1\", data=df)\n",
    "results = model.fit()\n",
    "print(results.summary())\n",
    "print()"
   ]
  },
  {
   "cell_type": "code",
   "execution_count": 11,
   "metadata": {
    "collapsed": false
   },
   "outputs": [
    {
     "name": "stdout",
     "output_type": "stream",
     "text": [
      "                            OLS Regression Results                            \n",
      "==============================================================================\n",
      "Dep. Variable:               calories   R-squared:                       0.000\n",
      "Model:                            OLS   Adj. R-squared:                 -0.001\n",
      "Method:                 Least Squares   F-statistic:                   0.06605\n",
      "Date:                Sun, 10 Jul 2016   Prob (F-statistic):              0.797\n",
      "Time:                        19:19:40   Log-Likelihood:                -7663.6\n",
      "No. Observations:                 957   AIC:                         1.533e+04\n",
      "Df Residuals:                     955   BIC:                         1.534e+04\n",
      "Df Model:                           1                                         \n",
      "Covariance Type:            nonrobust                                         \n",
      "==============================================================================\n",
      "                 coef    std err          t      P>|t|      [95.0% Conf. Int.]\n",
      "------------------------------------------------------------------------------\n",
      "Intercept   1843.2170     48.476     38.023      0.000      1748.085  1938.348\n",
      "gradelevel     1.8602      7.238      0.257      0.797       -12.344    16.064\n",
      "==============================================================================\n",
      "Omnibus:                      319.345   Durbin-Watson:                   1.933\n",
      "Prob(Omnibus):                  0.000   Jarque-Bera (JB):             1953.015\n",
      "Skew:                           1.387   Prob(JB):                         0.00\n",
      "Kurtosis:                       9.426   Cond. No.                         14.0\n",
      "==============================================================================\n",
      "\n",
      "Warnings:\n",
      "[1] Standard Errors assume that the covariance matrix of the errors is correctly specified.\n"
     ]
    }
   ],
   "source": [
    "model = smf.ols(formula=\"calories ~ gradelevel + 1\", data=df[df.gradelevel < 13])\n",
    "results = model.fit()\n",
    "print(results.summary())"
   ]
  },
  {
   "cell_type": "markdown",
   "metadata": {},
   "source": [
    "We're done, right?\n",
    "\n",
    "Unfortunately, no. Although I'm pretty sure this was the analysis I ran back in high school, this second time around I noticed a problem -- each respondant from NHANES is actually given a sample weight, which might throw off the entire analysis.\n",
    "\n",
    "Let's redo the analysis by taking advantage of the sample weights. Becuse I'm lazy, instead of a more sophisticated analysis, I'm just going to resample the dataframe using the weights provided. This will almost certainly lead to flawed confidence intervals, but like I said, I'm lazy.\n",
    "\n",
    "See these two papers for more info about properly dealing with sampling weights and regression:\n",
    "- http://www.nber.org/papers/w18859\n",
    "- http://www.stat.columbia.edu/~gelman/research/published/STS226.pdf"
   ]
  },
  {
   "cell_type": "code",
   "execution_count": 12,
   "metadata": {
    "collapsed": false
   },
   "outputs": [],
   "source": [
    "weighted_df = df.sample(df.weight.sum().astype(int), replace=True, weights=df.weight)\n",
    "# weighted_df = df.loc[np.repeat(df.index.values, df.weight.round().astype(int))]\n",
    "\n",
    "# Because of how many data points there are, I'll not bother with the graphs."
   ]
  },
  {
   "cell_type": "code",
   "execution_count": 13,
   "metadata": {
    "collapsed": false
   },
   "outputs": [
    {
     "name": "stdout",
     "output_type": "stream",
     "text": [
      "                            OLS Regression Results                            \n",
      "==============================================================================\n",
      "Dep. Variable:               calories   R-squared:                       0.000\n",
      "Model:                            OLS   Adj. R-squared:                  0.000\n",
      "Method:                 Least Squares   F-statistic:                     360.9\n",
      "Date:                Sun, 10 Jul 2016   Prob (F-statistic):           1.76e-80\n",
      "Time:                        19:19:56   Log-Likelihood:            -2.1456e+08\n",
      "No. Observations:            26869246   AIC:                         4.291e+08\n",
      "Df Residuals:                26869244   BIC:                         4.291e+08\n",
      "Df Model:                           1                                         \n",
      "Covariance Type:            nonrobust                                         \n",
      "==============================================================================\n",
      "                 coef    std err          t      P>|t|      [95.0% Conf. Int.]\n",
      "------------------------------------------------------------------------------\n",
      "Intercept   1811.0347      0.530   3414.205      0.000      1809.995  1812.074\n",
      "age            0.7185      0.038     18.998      0.000         0.644     0.793\n",
      "==============================================================================\n",
      "Omnibus:                  6124223.960   Durbin-Watson:                   2.000\n",
      "Prob(Omnibus):                  0.000   Jarque-Bera (JB):         23456740.987\n",
      "Skew:                           1.101   Prob(JB):                         0.00\n",
      "Kurtosis:                       7.012   Cond. No.                         54.5\n",
      "==============================================================================\n",
      "\n",
      "Warnings:\n",
      "[1] Standard Errors assume that the covariance matrix of the errors is correctly specified.\n",
      "\n"
     ]
    }
   ],
   "source": [
    "model = smf.ols(formula=\"calories ~ age + 1\", data=weighted_df)\n",
    "results = model.fit()\n",
    "print(results.summary())\n",
    "print()"
   ]
  },
  {
   "cell_type": "code",
   "execution_count": 14,
   "metadata": {
    "collapsed": false
   },
   "outputs": [
    {
     "name": "stdout",
     "output_type": "stream",
     "text": [
      "                            OLS Regression Results                            \n",
      "==============================================================================\n",
      "Dep. Variable:               calories   R-squared:                       0.000\n",
      "Model:                            OLS   Adj. R-squared:                  0.000\n",
      "Method:                 Least Squares   F-statistic:                     7.332\n",
      "Date:                Sun, 10 Jul 2016   Prob (F-statistic):            0.00677\n",
      "Time:                        19:20:15   Log-Likelihood:            -1.9258e+08\n",
      "No. Observations:            24169700   AIC:                         3.852e+08\n",
      "Df Residuals:                24169698   BIC:                         3.852e+08\n",
      "Df Model:                           1                                         \n",
      "Covariance Type:            nonrobust                                         \n",
      "==============================================================================\n",
      "                 coef    std err          t      P>|t|      [95.0% Conf. Int.]\n",
      "------------------------------------------------------------------------------\n",
      "Intercept   1815.5089      0.311   5840.708      0.000      1814.900  1816.118\n",
      "gradelevel    -0.1194      0.044     -2.708      0.007        -0.206    -0.033\n",
      "==============================================================================\n",
      "Omnibus:                  4440611.591   Durbin-Watson:                   2.000\n",
      "Prob(Omnibus):                  0.000   Jarque-Bera (JB):         13785223.632\n",
      "Skew:                           0.950   Prob(JB):                         0.00\n",
      "Kurtosis:                       6.174   Cond. No.                         15.7\n",
      "==============================================================================\n",
      "\n",
      "Warnings:\n",
      "[1] Standard Errors assume that the covariance matrix of the errors is correctly specified.\n"
     ]
    }
   ],
   "source": [
    "model = smf.ols(formula=\"calories ~ gradelevel + 1\", data=weighted_df[weighted_df.gradelevel < 13])\n",
    "results = model.fit()\n",
    "print(results.summary())"
   ]
  },
  {
   "cell_type": "markdown",
   "metadata": {},
   "source": [
    "Even with after resampling the weights, I stand by my conclusion: age and grade level *don't* seem to affect daily caloric consumption. Even though the coefficients are technically significant, a <1 calorie difference per year is essentially negligible."
   ]
  },
  {
   "cell_type": "code",
   "execution_count": null,
   "metadata": {
    "collapsed": true
   },
   "outputs": [],
   "source": []
  }
 ],
 "metadata": {
  "kernelspec": {
   "display_name": "Python 3",
   "language": "python",
   "name": "python3"
  },
  "language_info": {
   "codemirror_mode": {
    "name": "ipython",
    "version": 3
   },
   "file_extension": ".py",
   "mimetype": "text/x-python",
   "name": "python",
   "nbconvert_exporter": "python",
   "pygments_lexer": "ipython3",
   "version": "3.5.2"
  }
 },
 "nbformat": 4,
 "nbformat_minor": 0
}
